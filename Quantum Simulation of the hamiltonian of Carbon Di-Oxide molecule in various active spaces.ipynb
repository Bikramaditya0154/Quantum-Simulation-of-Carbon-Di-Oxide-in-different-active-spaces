{
 "cells": [
  {
   "cell_type": "code",
   "execution_count": 1,
   "id": "e8fd7bb4",
   "metadata": {},
   "outputs": [],
   "source": [
    "#needs version >= 1.5 for full functionality\n",
    "import tequila as tq"
   ]
  },
  {
   "cell_type": "code",
   "execution_count": 2,
   "id": "95a0679f",
   "metadata": {},
   "outputs": [
    {
     "name": "stdout",
     "output_type": "stream",
     "text": [
      "<class 'tequila.quantumchemistry.psi4_interface.QuantumChemistryPsi4'>\n",
      "Qubit Encoding\n",
      "JordanWigner\n",
      "\n",
      "Parameters\n",
      "basis_set       : cc-pVDZ         \n",
      "geometry        : C 0.0 0.0 0.0\n",
      "O 0.0 0.0 1.16\n",
      "O 0.0 0.0 -1.16 \n",
      "description     :                 \n",
      "multiplicity    : 1               \n",
      "charge          : 0               \n",
      "name            : o2c             \n",
      "frozen_core     : True            \n",
      "n_qubits        : 78              \n",
      "reference state : [1, 1, 1, 1, 1, 1, 1, 1, 1, 1, 1, 1, 1, 1, 1, 1, 0, 0, 0, 0, 0, 0, 0, 0, 0, 0, 0, 0, 0, 0, 0, 0, 0, 0, 0, 0, 0, 0, 0, 0, 0, 0, 0, 0, 0, 0, 0, 0, 0, 0, 0, 0, 0, 0, 0, 0, 0, 0, 0, 0, 0, 0, 0, 0, 0, 0, 0, 0, 0, 0, 0, 0, 0, 0, 0, 0, 0, 0] \n",
      "\n",
      "Basis\n",
      "\n",
      "IntegralManager:\n",
      "ActiveSpace:\n",
      "Active Space Data:\n",
      "active_orbitals : [3, 4, 5, 6, 7, 8, 9, 10, 11, 12, 13, 14, 15, 16, 17, 18, 19, 20, 21, 22, 23, 24, 25, 26, 27, 28, 29, 30, 31, 32, 33, 34, 35, 36, 37, 38, 39, 40, 41] \n",
      "reference_orbitals : [0, 1, 2, 3, 4, 5, 6, 7, 8, 9, 10] \n",
      "active_reference_orbitals : [3, 4, 5, 6, 7, 8, 9, 10] \n",
      "frozen_docc     : [2, 0, 0, 0, 0, 1, 0, 0] \n",
      "frozen_uocc     : [0, 0, 0, 0, 0, 0, 0, 0] \n",
      "Orbitals:\n",
      "{irrep:B1U, idx_irrep:0, idx_total:0, energy:-20.651315983517605}\n",
      "{irrep:AG, idx_irrep:0, idx_total:1, energy:-20.651283722730106}\n",
      "{irrep:AG, idx_irrep:1, idx_total:2, energy:-11.468996260662617}\n",
      "{irrep:AG, idx_irrep:2, idx_total:3, idx:0, energy:-1.5299601393726339}\n",
      "{irrep:B1U, idx_irrep:1, idx_total:4, idx:1, energy:-1.4762226558569242}\n",
      "{irrep:AG, idx_irrep:3, idx_total:5, idx:2, energy:-0.7946268397265884}\n",
      "{irrep:B1U, idx_irrep:2, idx_total:6, idx:3, energy:-0.7369160976714202}\n",
      "{irrep:B2U, idx_irrep:0, idx_total:7, idx:4, energy:-0.7087334445709239}\n",
      "{irrep:B3U, idx_irrep:0, idx_total:8, idx:5, energy:-0.7087334445709079}\n",
      "{irrep:B3G, idx_irrep:0, idx_total:9, idx:6, energy:-0.5362501476300914}\n",
      "{irrep:B2G, idx_irrep:0, idx_total:10, idx:7, energy:-0.5362501476300553}\n",
      "{irrep:B2U, idx_irrep:1, idx_total:11, idx:8, energy:0.21731707733304909}\n",
      "{irrep:B3U, idx_irrep:1, idx_total:12, idx:9, energy:0.21731707733306854}\n",
      "{irrep:AG, idx_irrep:4, idx_total:13, idx:10, energy:0.2518347131398672}\n",
      "{irrep:B1U, idx_irrep:3, idx_total:14, idx:11, energy:0.48757577713365347}\n",
      "{irrep:B2U, idx_irrep:2, idx_total:15, idx:12, energy:0.6015120856371695}\n",
      "{irrep:B3U, idx_irrep:2, idx_total:16, idx:13, energy:0.6015120856371814}\n",
      "{irrep:AG, idx_irrep:5, idx_total:17, idx:14, energy:0.7713459765414679}\n",
      "{irrep:B1U, idx_irrep:4, idx_total:18, idx:15, energy:0.9878321598428609}\n",
      "{irrep:AG, idx_irrep:6, idx_total:19, idx:16, energy:1.0496176027373112}\n",
      "{irrep:B3G, idx_irrep:1, idx_total:20, idx:17, energy:1.1235653230127802}\n",
      "{irrep:B2G, idx_irrep:1, idx_total:21, idx:18, energy:1.1235653230129174}\n",
      "{irrep:AG, idx_irrep:7, idx_total:22, idx:19, energy:1.2572384620747796}\n",
      "{irrep:B1G, idx_irrep:0, idx_total:23, idx:20, energy:1.2572384620748607}\n",
      "{irrep:B2U, idx_irrep:3, idx_total:24, idx:21, energy:1.3765908261195623}\n",
      "{irrep:B3U, idx_irrep:3, idx_total:25, idx:22, energy:1.3765908261197077}\n",
      "{irrep:B1U, idx_irrep:5, idx_total:26, idx:23, energy:1.461025736970832}\n",
      "{irrep:B2G, idx_irrep:2, idx_total:27, idx:24, energy:1.581354066374305}\n",
      "{irrep:B3G, idx_irrep:2, idx_total:28, idx:25, energy:1.581354066374321}\n",
      "{irrep:AG, idx_irrep:8, idx_total:29, idx:26, energy:1.8652137953217254}\n",
      "{irrep:B1U, idx_irrep:6, idx_total:30, idx:27, energy:2.3232593830502237}\n",
      "{irrep:B1U, idx_irrep:7, idx_total:31, idx:28, energy:2.8729405555689125}\n",
      "{irrep:AU, idx_irrep:0, idx_total:32, idx:29, energy:2.8729405555689165}\n",
      "{irrep:AG, idx_irrep:9, idx_total:33, idx:30, energy:3.0146830994469953}\n",
      "{irrep:B1G, idx_irrep:1, idx_total:34, idx:31, energy:3.014683099447025}\n",
      "{irrep:AG, idx_irrep:10, idx_total:35, idx:32, energy:3.1208702745251533}\n",
      "{irrep:B2U, idx_irrep:4, idx_total:36, idx:33, energy:3.121575640284024}\n",
      "{irrep:B3U, idx_irrep:4, idx_total:37, idx:34, energy:3.121575640284201}\n",
      "{irrep:AG, idx_irrep:11, idx_total:38, idx:35, energy:3.759105450553945}\n",
      "{irrep:B3G, idx_irrep:3, idx_total:39, idx:36, energy:3.877939814497004}\n",
      "{irrep:B2G, idx_irrep:3, idx_total:40, idx:37, energy:3.877939814497339}\n",
      "{irrep:B1U, idx_irrep:8, idx_total:41, idx:38, energy:3.934766086628227}\n",
      "\n",
      "more information with: self.print_basis_info()\n",
      "Psi4 Data\n",
      "Point Group (full) : d_inf_h         \n",
      "Point Group (used) : d2h             \n",
      "nirrep          : 8 \n",
      "irreps          : ['AG', 'B1G', 'B2G', 'B3G', 'AU', 'B1U', 'B2U', 'B3U'] \n",
      "mos per irrep   : [12, 2, 4, 4, 1, 9, 5, 5] \n",
      "\n"
     ]
    }
   ],
   "source": [
    "#Initialize molecule\n",
    "import tequila as tq\n",
    "geomstring=\"C 0.0 0.0 0.0\\nO 0.0 0.0 1.16\\nO 0.0 0.0 -1.16\"\n",
    "molecule = tq.chemistry.Molecule(geometry = geomstring, basis_set=\"cc-pVDZ\")\n",
    "print(molecule)"
   ]
  },
  {
   "cell_type": "code",
   "execution_count": 3,
   "id": "ade09502",
   "metadata": {},
   "outputs": [
    {
     "data": {
      "text/plain": [
       "OrbitalData(irrep='B1U', idx_irrep=2, idx_total=6, idx=3, energy=-0.7369160976714202, occ=None, pair=None)"
      ]
     },
     "execution_count": 3,
     "metadata": {},
     "output_type": "execute_result"
    }
   ],
   "source": [
    "#Molecular Orbitals and Point Groups\n",
    "molecule.orbitals[3]"
   ]
  },
  {
   "cell_type": "code",
   "execution_count": 4,
   "id": "ea74b089",
   "metadata": {},
   "outputs": [
    {
     "name": "stdout",
     "output_type": "stream",
     "text": [
      "Hamiltonian has 406238 terms\n",
      "Hamiltonian has 78 qubits\n"
     ]
    }
   ],
   "source": [
    "#Initialize the Qubit Hamiltonians\n",
    "import tequila as tq\n",
    "H = molecule.make_hamiltonian()\n",
    "# The CO2 Hamiltonian is already quite large, better not print the full Hamiltonian\n",
    "print(\"Hamiltonian has {} terms\".format(len(H)))\n",
    "print(\"Hamiltonian has {} qubits\".format(H.n_qubits))"
   ]
  },
  {
   "cell_type": "code",
   "execution_count": 5,
   "id": "62f5a611",
   "metadata": {},
   "outputs": [
    {
     "name": "stdout",
     "output_type": "stream",
     "text": [
      "Hamiltonian has 406238 terms\n",
      "Bravyi-Kitaev\n",
      " "
     ]
    },
    {
     "name": "stderr",
     "output_type": "stream",
     "text": [
      "IOPub data rate exceeded.\n",
      "The notebook server will temporarily stop sending output\n",
      "to the client in order to avoid crashing it.\n",
      "To change this limit, set the config variable\n",
      "`--NotebookApp.iopub_data_rate_limit`.\n",
      "\n",
      "Current values:\n",
      "NotebookApp.iopub_data_rate_limit=1000000.0 (bytes/sec)\n",
      "NotebookApp.rate_limit_window=3.0 (secs)\n",
      "\n"
     ]
    },
    {
     "name": "stdout",
     "output_type": "stream",
     "text": [
      "Hamiltonian has 78 qubits\n"
     ]
    }
   ],
   "source": [
    "#Let's initialize the Qubit Hamiltonian with \"BravyiKitaev\" transformation\n",
    "molecule = tq.chemistry.Molecule(geometry = geomstring, basis_set=\"cc-pVDZ\", transformation=\"BravyiKitaev\")\n",
    "H = molecule.make_hamiltonian()\n",
    "print(\"Hamiltonian has {} terms\".format(len(H)))\n",
    "print(\"Bravyi-Kitaev\\n\", H)\n",
    "print(\"Hamiltonian has {} qubits\".format(H.n_qubits))"
   ]
  },
  {
   "cell_type": "code",
   "execution_count": 6,
   "id": "86e583a7",
   "metadata": {},
   "outputs": [
    {
     "name": "stdout",
     "output_type": "stream",
     "text": [
      "Hamiltonian has 62 terms\n",
      "-181.9923+0.4428Z(0)+0.4428Z(1)-0.7266Z(2)+0.0048Y(2)Z(3)Y(4)+0.0048X(2)Z(3)X(4)-0.7266Z(3)+0.0048Y(3)Z(4)Y(5)+0.0048X(3)Z(4)X(5)-1.5898Z(4)-1.5898Z(5)+0.1398Z(0)Z(1)+0.0048Y(0)X(1)X(2)Y(3)-0.0048Y(0)Y(1)X(2)X(3)-0.0048X(0)X(1)Y(2)Y(3)+0.0048X(0)Y(1)Y(2)X(3)+0.0015Y(0)X(1)X(3)Y(4)+0.0015Y(0)Y(1)Y(3)Y(4)+0.0015X(0)X(1)X(3)X(4)+0.0015X(0)Y(1)Y(3)X(4)-0.0015Y(0)X(1)X(2)Z(3)Z(4)Y(5)+0.0015Y(0)Y(1)X(2)Z(3)Z(4)X(5)+0.0015X(0)X(1)Y(2)Z(3)Z(4)Y(5)-0.0015X(0)Y(1)Y(2)Z(3)Z(4)X(5)+0.0060Y(0)X(1)X(4)Y(5)-0.0060Y(0)Y(1)X(4)X(5)-0.0060X(0)X(1)Y(4)Y(5)+0.0060X(0)Y(1)Y(4)X(5)+0.1116Z(0)Z(2)+0.0007Z(0)Y(2)Z(3)Y(4)+0.0007Z(0)X(2)Z(3)X(4)+0.1164Z(0)Z(3)+0.0022Z(0)Y(3)Z(4)Y(5)+0.0022Z(0)X(3)Z(4)X(5)+0.1140Z(0)Z(4)+0.1199Z(0)Z(5)+0.1164Z(1)Z(2)+0.0022Z(1)Y(2)Z(3)Y(4)+0.0022Z(1)X(2)Z(3)X(4)+0.1116Z(1)Z(3)+0.0007Z(1)Y(3)Z(4)Y(5)+0.0007Z(1)X(3)Z(4)X(5)+0.1199Z(1)Z(4)+0.1140Z(1)Z(5)+0.1395Z(2)Z(3)-0.0095Y(2)Y(4)-0.0095X(2)X(4)-0.0095Z(2)Y(3)Z(4)Y(5)-0.0095Z(2)X(3)Z(4)X(5)+0.0042Y(2)X(3)X(4)Y(5)-0.0042Y(2)Y(3)X(4)X(5)-0.0042X(2)X(3)Y(4)Y(5)+0.0042X(2)Y(3)Y(4)X(5)+0.0918Z(2)Z(4)+0.0959Z(2)Z(5)+0.0075Y(2)Z(3)Y(4)Z(5)+0.0075X(2)Z(3)X(4)Z(5)+0.0959Z(3)Z(4)+0.0075Y(3)Y(5)+0.0075X(3)X(5)+0.0918Z(3)Z(5)+0.1289Z(4)Z(5)\n",
      "[-187.65126254 -186.39612868 -186.39612868 -186.12113009 -186.12113009\n",
      " -185.3317177  -185.3317177  -185.3317177  -185.29347169 -184.63710216\n",
      " -184.63710216 -184.58513224 -184.03210552 -183.96780315 -183.96780315\n",
      " -183.68921783 -183.68921783 -183.58671531 -183.58671531 -183.58671531\n",
      " -183.53899724 -183.01495191 -183.01495191 -183.01495191 -182.98069347\n",
      " -182.79143493 -182.43029104 -182.43029104 -182.43029104 -182.43029104\n",
      " -182.37528799 -182.37528799 -182.36414283 -182.36414283 -181.95350044\n",
      " -181.95350044 -181.24360086 -181.24360086 -181.24360086 -181.20748354\n",
      " -181.10625981 -180.81839309 -180.81839309 -180.68025582 -180.68025582\n",
      " -180.68025582 -180.6327384  -180.5120494  -180.5120494  -179.95923391\n",
      " -179.95923391 -179.35879429 -179.1013849  -179.1013849  -178.97253482\n",
      " -178.97253482 -178.97253482 -178.93408815 -178.26533316 -178.26533316\n",
      " -176.85548772 -176.85548772 -176.61394951 -176.5378142 ]\n",
      "lowest energy =  -187.65126253637564\n"
     ]
    }
   ],
   "source": [
    "#Setting Active Space\n",
    "import tequila as tq\n",
    "import numpy\n",
    "active_orbitals = {\"AG\":[0,1,2], \"B1G\":[0,1]}\n",
    "molecule = tq.chemistry.Molecule(geometry = geomstring, basis_set=\"cc-pVDZ\", active_orbitals=active_orbitals)\n",
    "H = molecule.make_hamiltonian()\n",
    "eigenValues = numpy.linalg.eigvalsh(H.to_matrix())\n",
    "print(\"Hamiltonian has {} terms\".format(len(H)))\n",
    "print(H)\n",
    "print(eigenValues)\n",
    "print(\"lowest energy = \", eigenValues[0])"
   ]
  },
  {
   "cell_type": "code",
   "execution_count": 7,
   "id": "cdbbe3fe",
   "metadata": {},
   "outputs": [
    {
     "name": "stdout",
     "output_type": "stream",
     "text": [
      "Hamiltonian has 252 terms\n",
      "-180.5446+0.4801Z(0)+0.4801Z(1)+0.0182Z(2)+0.0052Y(2)Z(3)Y(4)+0.0052X(2)Z(3)X(4)+0.0182Z(3)+0.0052Y(3)Z(4)Y(5)+0.0052X(3)Z(4)X(5)-0.6270Z(4)-0.6270Z(5)-0.7004Z(6)+0.0070Y(6)Z(7)Y(8)+0.0070X(6)Z(7)X(8)-0.7004Z(7)+0.0070Y(7)Z(8)Y(9)+0.0070X(7)Z(8)X(9)-1.5516Z(8)-1.5516Z(9)+0.1398Z(0)Z(1)+0.0141Y(0)X(1)X(2)Y(3)-0.0141Y(0)Y(1)X(2)X(3)-0.0141X(0)X(1)Y(2)Y(3)+0.0141X(0)Y(1)Y(2)X(3)-0.0053Y(0)X(1)X(3)Y(4)-0.0053Y(0)Y(1)Y(3)Y(4)-0.0053X(0)X(1)X(3)X(4)-0.0053X(0)Y(1)Y(3)X(4)+0.0053Y(0)X(1)X(2)Z(3)Z(4)Y(5)-0.0053Y(0)Y(1)X(2)Z(3)Z(4)X(5)-0.0053X(0)X(1)Y(2)Z(3)Z(4)Y(5)+0.0053X(0)Y(1)Y(2)Z(3)Z(4)X(5)+0.0039Y(0)X(1)X(4)Y(5)-0.0039Y(0)Y(1)X(4)X(5)-0.0039X(0)X(1)Y(4)Y(5)+0.0039X(0)Y(1)Y(4)X(5)+0.0048Y(0)X(1)X(6)Y(7)-0.0048Y(0)Y(1)X(6)X(7)-0.0048X(0)X(1)Y(6)Y(7)+0.0048X(0)Y(1)Y(6)X(7)+0.0015Y(0)X(1)X(7)Y(8)+0.0015Y(0)Y(1)Y(7)Y(8)+0.0015X(0)X(1)X(7)X(8)+0.0015X(0)Y(1)Y(7)X(8)-0.0015Y(0)X(1)X(6)Z(7)Z(8)Y(9)+0.0015Y(0)Y(1)X(6)Z(7)Z(8)X(9)+0.0015X(0)X(1)Y(6)Z(7)Z(8)Y(9)-0.0015X(0)Y(1)Y(6)Z(7)Z(8)X(9)+0.0060Y(0)X(1)X(8)Y(9)-0.0060Y(0)Y(1)X(8)X(9)-0.0060X(0)X(1)Y(8)Y(9)+0.0060X(0)Y(1)Y(8)X(9)+0.1075Z(0)Z(2)-0.0197Z(0)Y(2)Z(3)Y(4)-0.0197Z(0)X(2)Z(3)X(4)+0.1216Z(0)Z(3)-0.0250Z(0)Y(3)Z(4)Y(5)-0.0250Z(0)X(3)Z(4)X(5)+0.0940Z(0)Z(4)+0.0979Z(0)Z(5)+0.1116Z(0)Z(6)+0.0007Z(0)Y(6)Z(7)Y(8)+0.0007Z(0)X(6)Z(7)X(8)+0.1164Z(0)Z(7)+0.0022Z(0)Y(7)Z(8)Y(9)+0.0022Z(0)X(7)Z(8)X(9)+0.1140Z(0)Z(8)+0.1199Z(0)Z(9)+0.1216Z(1)Z(2)-0.0250Z(1)Y(2)Z(3)Y(4)-0.0250Z(1)X(2)Z(3)X(4)+0.1075Z(1)Z(3)-0.0197Z(1)Y(3)Z(4)Y(5)-0.0197Z(1)X(3)Z(4)X(5)+0.0979Z(1)Z(4)+0.0940Z(1)Z(5)+0.1164Z(1)Z(6)+0.0022Z(1)Y(6)Z(7)Y(8)+0.0022Z(1)X(6)Z(7)X(8)+0.1116Z(1)Z(7)+0.0007Z(1)Y(7)Z(8)Y(9)+0.0007Z(1)X(7)Z(8)X(9)+0.1199Z(1)Z(8)+0.1140Z(1)Z(9)+0.1258Z(2)Z(3)-0.0240Y(2)Y(4)-0.0240X(2)X(4)-0.0240Z(2)Y(3)Z(4)Y(5)-0.0240Z(2)X(3)Z(4)X(5)+0.0156Y(2)X(3)X(4)Y(5)-0.0156Y(2)Y(3)X(4)X(5)-0.0156X(2)X(3)Y(4)Y(5)+0.0156X(2)Y(3)Y(4)X(5)+0.0019Y(2)X(3)X(6)Y(7)-0.0019Y(2)Y(3)X(6)X(7)-0.0019X(2)X(3)Y(6)Y(7)+0.0019X(2)Y(3)Y(6)X(7)+0.0035Y(2)X(3)X(7)Y(8)+0.0035Y(2)Y(3)Y(7)Y(8)+0.0035X(2)X(3)X(7)X(8)+0.0035X(2)Y(3)Y(7)X(8)-0.0035Y(2)X(3)X(6)Z(7)Z(8)Y(9)+0.0035Y(2)Y(3)X(6)Z(7)Z(8)X(9)+0.0035X(2)X(3)Y(6)Z(7)Z(8)Y(9)-0.0035X(2)Y(3)Y(6)Z(7)Z(8)X(9)+0.0129Y(2)X(3)X(8)Y(9)-0.0129Y(2)Y(3)X(8)X(9)-0.0129X(2)X(3)Y(8)Y(9)+0.0129X(2)Y(3)Y(8)X(9)+0.0853Z(2)Z(4)-0.0002Y(2)Z(3)X(4)X(6)Z(7)Y(8)-0.0017Y(2)Z(3)Y(4)Y(6)Z(7)Y(8)-0.0015Y(2)Z(3)Y(4)X(6)Z(7)X(8)-0.0015X(2)Z(3)X(4)Y(6)Z(7)Y(8)-0.0017X(2)Z(3)X(4)X(6)Z(7)X(8)-0.0002X(2)Z(3)Y(4)Y(6)Z(7)X(8)+0.1009Z(2)Z(5)-0.0128Y(2)Z(3)Y(4)Z(5)-0.0128X(2)Z(3)X(4)Z(5)+0.0003Y(2)Z(3)Z(4)X(5)X(6)Y(7)-0.0003Y(2)Z(3)Z(4)Y(5)X(6)X(7)-0.0003X(2)Z(3)Z(4)X(5)Y(6)Y(7)+0.0003X(2)Z(3)Z(4)Y(5)Y(6)X(7)+0.0004Y(2)Z(3)Z(4)X(5)X(7)Y(8)+0.0004Y(2)Z(3)Z(4)Y(5)Y(7)Y(8)+0.0004X(2)Z(3)Z(4)X(5)X(7)X(8)+0.0004X(2)Z(3)Z(4)Y(5)Y(7)X(8)-0.0006Y(2)Z(3)Z(4)X(5)X(6)Z(7)Z(8)Y(9)+0.0006Y(2)Z(3)Z(4)Y(5)X(6)Z(7)Z(8)X(9)+0.0006X(2)Z(3)Z(4)X(5)Y(6)Z(7)Z(8)Y(9)-0.0006X(2)Z(3)Z(4)Y(5)Y(6)Z(7)Z(8)X(9)+0.0027Y(2)Z(3)Z(4)X(5)X(8)Y(9)-0.0027Y(2)Z(3)Z(4)Y(5)X(8)X(9)-0.0027X(2)Z(3)Z(4)X(5)Y(8)Y(9)+0.0027X(2)Z(3)Z(4)Y(5)Y(8)X(9)+0.0935Z(2)Z(6)+0.0027Z(2)Y(6)Z(7)Y(8)+0.0027Z(2)X(6)Z(7)X(8)-0.0114Y(2)Z(3)Y(4)Z(6)-0.0114X(2)Z(3)X(4)Z(6)+0.0954Z(2)Z(7)-0.0116Y(2)Z(3)Y(4)Z(7)-0.0116X(2)Z(3)X(4)Z(7)+0.0062Z(2)Y(7)Z(8)Y(9)+0.0062Z(2)X(7)Z(8)X(9)-0.0021Y(2)Z(3)Y(4)Y(7)Z(8)Y(9)-0.0021Y(2)Z(3)Y(4)X(7)Z(8)X(9)-0.0021X(2)Z(3)X(4)Y(7)Z(8)Y(9)-0.0021X(2)Z(3)X(4)X(7)Z(8)X(9)+0.1083Z(2)Z(8)-0.0178Y(2)Z(3)Y(4)Z(8)-0.0178X(2)Z(3)X(4)Z(8)+0.1213Z(2)Z(9)-0.0204Y(2)Z(3)Y(4)Z(9)-0.0204X(2)Z(3)X(4)Z(9)+0.1009Z(3)Z(4)-0.0128Y(3)Y(5)-0.0128X(3)X(5)-0.0003Y(3)X(4)X(6)Y(7)-0.0003Y(3)Y(4)Y(6)Y(7)-0.0003X(3)X(4)X(6)X(7)-0.0003X(3)Y(4)Y(6)X(7)+0.0004Y(3)X(4)X(6)Z(7)Z(8)Y(9)+0.0004Y(3)Y(4)Y(6)Z(7)Z(8)Y(9)+0.0004X(3)X(4)X(6)Z(7)Z(8)X(9)+0.0004X(3)Y(4)Y(6)Z(7)Z(8)X(9)-0.0006Y(3)X(4)X(7)Y(8)+0.0006Y(3)Y(4)X(7)X(8)+0.0006X(3)X(4)Y(7)Y(8)-0.0006X(3)Y(4)Y(7)X(8)-0.0027Y(3)X(4)X(8)Y(9)-0.0027Y(3)Y(4)Y(8)Y(9)-0.0027X(3)X(4)X(8)X(9)-0.0027X(3)Y(4)Y(8)X(9)+0.0853Z(3)Z(5)-0.0002Y(3)Z(4)X(5)X(7)Z(8)Y(9)-0.0017Y(3)Z(4)Y(5)Y(7)Z(8)Y(9)-0.0015Y(3)Z(4)Y(5)X(7)Z(8)X(9)-0.0015X(3)Z(4)X(5)Y(7)Z(8)Y(9)-0.0017X(3)Z(4)X(5)X(7)Z(8)X(9)-0.0002X(3)Z(4)Y(5)Y(7)Z(8)X(9)+0.0954Z(3)Z(6)-0.0116Y(3)Z(4)Y(5)Z(6)-0.0116X(3)Z(4)X(5)Z(6)+0.0062Z(3)Y(6)Z(7)Y(8)+0.0062Z(3)X(6)Z(7)X(8)-0.0021Y(3)Z(4)Y(5)Y(6)Z(7)Y(8)-0.0021Y(3)Z(4)Y(5)X(6)Z(7)X(8)-0.0021X(3)Z(4)X(5)Y(6)Z(7)Y(8)-0.0021X(3)Z(4)X(5)X(6)Z(7)X(8)+0.0935Z(3)Z(7)+0.0027Z(3)Y(7)Z(8)Y(9)+0.0027Z(3)X(7)Z(8)X(9)-0.0114Y(3)Z(4)Y(5)Z(7)-0.0114X(3)Z(4)X(5)Z(7)+0.1213Z(3)Z(8)-0.0204Y(3)Z(4)Y(5)Z(8)-0.0204X(3)Z(4)X(5)Z(8)+0.1083Z(3)Z(9)-0.0178Y(3)Z(4)Y(5)Z(9)-0.0178X(3)Z(4)X(5)Z(9)+0.0894Z(4)Z(5)+0.0004Y(4)X(5)X(6)Y(7)-0.0004Y(4)Y(5)X(6)X(7)-0.0004X(4)X(5)Y(6)Y(7)+0.0004X(4)Y(5)Y(6)X(7)+0.0004Y(4)X(5)X(7)Y(8)+0.0004Y(4)Y(5)Y(7)Y(8)+0.0004X(4)X(5)X(7)X(8)+0.0004X(4)Y(5)Y(7)X(8)-0.0004Y(4)X(5)X(6)Z(7)Z(8)Y(9)+0.0004Y(4)Y(5)X(6)Z(7)Z(8)X(9)+0.0004X(4)X(5)Y(6)Z(7)Z(8)Y(9)-0.0004X(4)Y(5)Y(6)Z(7)Z(8)X(9)+0.0019Y(4)X(5)X(8)Y(9)-0.0019Y(4)Y(5)X(8)X(9)-0.0019X(4)X(5)Y(8)Y(9)+0.0019X(4)Y(5)Y(8)X(9)+0.0811Z(4)Z(6)+0.0032Z(4)Y(6)Z(7)Y(8)+0.0032Z(4)X(6)Z(7)X(8)+0.0815Z(4)Z(7)+0.0036Z(4)Y(7)Z(8)Y(9)+0.0036Z(4)X(7)Z(8)X(9)+0.0947Z(4)Z(8)+0.0967Z(4)Z(9)+0.0815Z(5)Z(6)+0.0036Z(5)Y(6)Z(7)Y(8)+0.0036Z(5)X(6)Z(7)X(8)+0.0811Z(5)Z(7)+0.0032Z(5)Y(7)Z(8)Y(9)+0.0032Z(5)X(7)Z(8)X(9)+0.0967Z(5)Z(8)+0.0947Z(5)Z(9)+0.1395Z(6)Z(7)-0.0095Y(6)Y(8)-0.0095X(6)X(8)-0.0095Z(6)Y(7)Z(8)Y(9)-0.0095Z(6)X(7)Z(8)X(9)+0.0042Y(6)X(7)X(8)Y(9)-0.0042Y(6)Y(7)X(8)X(9)-0.0042X(6)X(7)Y(8)Y(9)+0.0042X(6)Y(7)Y(8)X(9)+0.0918Z(6)Z(8)+0.0959Z(6)Z(9)+0.0075Y(6)Z(7)Y(8)Z(9)+0.0075X(6)Z(7)X(8)Z(9)+0.0959Z(7)Z(8)+0.0075Y(7)Y(9)+0.0075X(7)X(9)+0.0918Z(7)Z(9)+0.1289Z(8)Z(9)\n",
      "[-187.6532756  -187.12157018 -187.12157018 ... -172.1863267  -172.1863267\n",
      " -171.1012286 ]\n",
      "lowest energy =  -187.65327559685684\n"
     ]
    }
   ],
   "source": [
    "#Setting larger Active Space than the previous one\n",
    "import tequila as tq\n",
    "import numpy\n",
    "active_orbitals = {\"AG\":[0,1,2], \"B1G\":[0,1], \"B2G\":[0,1]}\n",
    "molecule = tq.chemistry.Molecule(geometry = geomstring, basis_set=\"cc-pVDZ\", active_orbitals=active_orbitals)\n",
    "H = molecule.make_hamiltonian()\n",
    "eigenValues = numpy.linalg.eigvalsh(H.to_matrix())\n",
    "print(\"Hamiltonian has {} terms\".format(len(H)))\n",
    "print(H)\n",
    "print(eigenValues)\n",
    "print(\"lowest energy = \", eigenValues[0])"
   ]
  },
  {
   "cell_type": "code",
   "execution_count": null,
   "id": "e9239cb1",
   "metadata": {},
   "outputs": [],
   "source": []
  },
  {
   "cell_type": "code",
   "execution_count": null,
   "id": "b4e6e9cb",
   "metadata": {},
   "outputs": [],
   "source": []
  }
 ],
 "metadata": {
  "kernelspec": {
   "display_name": "base",
   "language": "python",
   "name": "base"
  },
  "language_info": {
   "codemirror_mode": {
    "name": "ipython",
    "version": 3
   },
   "file_extension": ".py",
   "mimetype": "text/x-python",
   "name": "python",
   "nbconvert_exporter": "python",
   "pygments_lexer": "ipython3",
   "version": "3.9.12"
  }
 },
 "nbformat": 4,
 "nbformat_minor": 5
}
